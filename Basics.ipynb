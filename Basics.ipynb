{
 "cells": [
  {
   "cell_type": "markdown",
   "metadata": {
    "collapsed": true
   },
   "source": [
    "# Fandango Movie Ratings Revisited"
   ]
  },
  {
   "cell_type": "markdown",
   "metadata": {},
   "source": [
    "In 2015 data journalist Walt Hickey found strong evidence that Fandango.com's movie rating system was biased and dishonest. Aggregated movie ratings seemed to be misrepresented on the sites' 5-star scale in favor of higher ratings.\n",
    "\n",
    "After the finding was made public Fandango explained that the issue was caused by a bug in their system. But even after the alleged fix doubts remain. \n",
    "\n",
    "In the following analysis we try to answer the question whether Fandango's ratings of movies is still biased by comparing ratings before the publication of Hickey's discovery with those after.\n",
    "\n",
    "The available data is not representative of all of the site's movie ratings so we will focus our analysis on what the data are representative of: Popular movies released in 2015 and 2016, respectively."
   ]
  },
  {
   "cell_type": "markdown",
   "metadata": {},
   "source": [
    "## Preparation"
   ]
  },
  {
   "cell_type": "code",
   "execution_count": null,
   "metadata": {
    "collapsed": true
   },
   "outputs": [],
   "source": [
    "import pandas as pd\n",
    "import seaborn as sns\n",
    "import matplotlib.pyplot as plt"
   ]
  },
  {
   "cell_type": "code",
   "execution_count": null,
   "metadata": {
    "collapsed": true
   },
   "outputs": [],
   "source": [
    "%matplotlib inline\n",
    "%config InlineBackend.figure_format = 'retina'\n",
    "plt.style.use('fivethirtyeight')"
   ]
  },
  {
   "cell_type": "code",
   "execution_count": null,
   "metadata": {
    "collapsed": false,
    "scrolled": false
   },
   "outputs": [],
   "source": [
    "prev_data = pd.read_csv('fandango_score_comparison.csv')\n",
    "curr_data = pd.read_csv('movie_ratings_16_17.csv')"
   ]
  },
  {
   "cell_type": "code",
   "execution_count": null,
   "metadata": {
    "collapsed": false,
    "scrolled": false
   },
   "outputs": [],
   "source": [
    "prev_data.info()\n",
    "prev_rating_cols = ['FILM', 'Fandango_Stars',\n",
    "                    'Fandango_Ratingvalue', 'Fandango_votes',\n",
    "                    'Fandango_Difference']\n",
    "prev_col_labels = {'Fandango_Stars': 'rating'}\n",
    "\n",
    "prev_ratings = prev_data[prev_rating_cols].copy()\\\n",
    "    .rename(columns = prev_col_labels)"
   ]
  },
  {
   "cell_type": "code",
   "execution_count": null,
   "metadata": {
    "collapsed": false
   },
   "outputs": [],
   "source": [
    "curr_data.info()\n",
    "curr_rating_cols = ['movie', 'year', 'fandango']\n",
    "curr_col_labels = {'fandango': 'rating'}\n",
    "\n",
    "curr_ratings = curr_data[curr_rating_cols].copy()\\\n",
    "    .rename(columns = curr_col_labels)"
   ]
  },
  {
   "cell_type": "markdown",
   "metadata": {},
   "source": [
    "## Population\n",
    "Fandago's rating data before and after Hickey's findings together make up the population of interest for our analysis.  \n",
    "Since we are interested in how Fandango's ratings compare before and after Hickey's analysis we need to get samples based on the respective time frames."
   ]
  },
  {
   "cell_type": "markdown",
   "metadata": {},
   "source": [
    "## Dataset comparability\n",
    "For this comparison we use two datasets:\n",
    "- Hickey's Fandango ratings data from Aug. 24, 2015\n",
    "- Dataquest's Fandango ratings data from March 22, 2017\n",
    "\n",
    "Hickey's data contains  \n",
    "`every film that has a Rotten Tomatoes rating, a RT User rating, a Metacritic score, a Metacritic User score, and IMDb score, and at least 30 fan reviews on Fandango`\n",
    "\n",
    "Dataquest's data contains  \n",
    "`movie ratings data for 214 of the most popular movies (with a significant number of votes) released in 2016 and 2017`\n",
    "\n",
    "The sampling in both cases is not random and are therefore unlikely to be representative of the population of interest. \n",
    "\n",
    "Their definitions of which movies where included and which were not are not congruent and therefore we need to take further steps to be able to confidently start comparing the two datasets.\n",
    "\n",
    "From now on, our definition of a \"popular movie\" is a movie with 30 or more votes. (Hickey's original criteria for selecting movies for his dataset)\n",
    "\n",
    "Unfortunately, the more recent dataset does not contain this information but the author does state that only movies `with a significant number of votes` where included.\n",
    "\n",
    "We'll verify this by randomly selecting 10 movies and manually checking the number of votes on the Fandango Website."
   ]
  },
  {
   "cell_type": "code",
   "execution_count": null,
   "metadata": {
    "collapsed": false,
    "scrolled": false
   },
   "outputs": [],
   "source": [
    "curr_ratings.sample(10, random_state = 1)"
   ]
  },
  {
   "cell_type": "markdown",
   "metadata": {},
   "source": [
    "All of the above movies have more than 30 votes so we can now move on more confidently."
   ]
  },
  {
   "cell_type": "markdown",
   "metadata": {},
   "source": [
    "### Filter the Datasets By Year"
   ]
  },
  {
   "cell_type": "code",
   "execution_count": null,
   "metadata": {
    "collapsed": false
   },
   "outputs": [],
   "source": [
    "year_2015 = prev_ratings.FILM.str.contains('(2015)', regex = False)\n",
    "ratings_2015 = prev_ratings[year_2015].copy()\n",
    "print(\"Hickey's Dataset\")\n",
    "print('total number:', prev_ratings.shape)\n",
    "print('2015 movies:', ratings_2015.shape)\n",
    "\n",
    "year_2016 = curr_ratings.year == 2016\n",
    "ratings_2016 = curr_ratings[year_2016].copy()\n",
    "print(\"\\nDataquests's Dataset\")\n",
    "print('total number:', curr_ratings.shape)\n",
    "print('2016 movies:', ratings_2016.shape)"
   ]
  },
  {
   "cell_type": "markdown",
   "metadata": {},
   "source": [
    "# Analysis"
   ]
  },
  {
   "cell_type": "code",
   "execution_count": null,
   "metadata": {
    "collapsed": false
   },
   "outputs": [],
   "source": [
    "ratings_2015['rating'].rename('2015').plot.kde(xlim=(0,5))\n",
    "ratings_2016['rating'].rename('2016').plot.kde()\n",
    "plt.title('\\nFandango Movie Ratings\\n', fontsize=18)\n",
    "plt.xlabel('Rating', fontsize=14)\n",
    "plt.ylabel('Density', fontsize=14)\n",
    "plt.legend(loc='upper left');\n",
    "plt.xticks([0, 0.5, 1.0, 1.5, 2.0, 2.5, 3.0, 3.5, 4.0, 4.5, 5.0]);"
   ]
  },
  {
   "cell_type": "markdown",
   "metadata": {
    "collapsed": true
   },
   "source": [
    "### Interpretation\n",
    "Fandango Movie Ratings from 2015 and 2016 are distributed differently.  \n",
    "2015's Ratings are skewered to the left much more strongly than ratings from 2016. \n",
    "In the year after Hickey's analysis the most frequent movie rating was 4 while before movies were most often rated 4.5 - half a star more."
   ]
  },
  {
   "cell_type": "code",
   "execution_count": null,
   "metadata": {
    "collapsed": false
   },
   "outputs": [],
   "source": [
    "def formatted_freq_table(series):\n",
    "    return (series.value_counts(normalize=True)\\\n",
    "      .sort_index(ascending=False) * 100).round(decimals=1)\n",
    "\n",
    "print('\\nRatings 2015')\n",
    "print(formatted_freq_table(ratings_2015['rating']))\n",
    "\n",
    "print('\\nRatings 2016')\n",
    "print(formatted_freq_table(ratings_2016['rating']))"
   ]
  },
  {
   "cell_type": "code",
   "execution_count": null,
   "metadata": {
    "collapsed": false
   },
   "outputs": [],
   "source": [
    "def summarize(series):\n",
    "    return {\n",
    "        'mean': series.mean(),\n",
    "        'median': series.median(),\n",
    "        'mode': series.mode()\n",
    "    }\n",
    "\n",
    "summary = pd.DataFrame({\n",
    "    2015: summarize(ratings_2015['rating']),\n",
    "    2016: summarize(ratings_2016['rating'])\n",
    "}, dtype = float)"
   ]
  },
  {
   "cell_type": "code",
   "execution_count": 128,
   "metadata": {
    "collapsed": false
   },
   "outputs": [
    {
     "data": {
      "image/png": "[encoded data removed]",
      "text/plain": [
       "<matplotlib.figure.Figure at 0x7f23774aa048>"
      ]
     },
     "metadata": {
      "image/png": {
       "height": 318,
       "width": 425
      }
     },
     "output_type": "display_data"
    }
   ],
   "source": [
    "summary.plot.bar(ylim = (0, 5), rot=90)\n",
    "plt.title('Fandago Rating Stats')\n",
    "plt.ylabel('Stars')\n",
    "plt.legend(loc = 'upper center');"
   ]
  },
  {
   "cell_type": "code",
   "execution_count": null,
   "metadata": {
    "collapsed": true
   },
   "outputs": [],
   "source": []
  }
 ],
 "metadata": {
  "kernelspec": {
   "display_name": "Python 3",
   "language": "python",
   "name": "python3"
  },
  "language_info": {
   "codemirror_mode": {
    "name": "ipython",
    "version": 3
   },
   "file_extension": ".py",
   "mimetype": "text/x-python",
   "name": "python",
   "nbconvert_exporter": "python",
   "pygments_lexer": "ipython3",
   "version": "3.4.3"
  }
 },
 "nbformat": 4,
 "nbformat_minor": 2
}
